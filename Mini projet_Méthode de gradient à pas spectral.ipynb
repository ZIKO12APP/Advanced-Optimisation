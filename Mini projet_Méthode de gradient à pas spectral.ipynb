{
 "cells": [
  {
   "cell_type": "markdown",
   "metadata": {},
   "source": [
    "# Mini projet : Méthode de gradient à pas spectral\n"
   ]
  },
  {
   "cell_type": "markdown",
   "metadata": {},
   "source": [
    "### Master : MHACS     $\\quad \\quad $   Module : Optimisation Avancée "
   ]
  },
  {
   "cell_type": "markdown",
   "metadata": {},
   "source": [
    "#### Cadre abstrait :"
   ]
  },
  {
   "cell_type": "markdown",
   "metadata": {},
   "source": [
    "Le but de ce mini-projet est de programmer, valider et expérimenter la méthode de gradient avec pas spectral.\n",
    "#### Question 1:\n",
    "Les fonction qu'on va utiliser dans ce TP.\n",
    "\n",
    "$J_1(u)= \\langle u-f,u-f\\rangle$\n",
    "\n",
    "$J_2(u)=\\langle u-g,u-g\\rangle$\n",
    "\n",
    "$J_5(u) =\\frac{1}{2}\\langle Au,u\\rangle-\\langle f,u \\rangle+ \\langle u,u \\rangle$\n",
    "\n",
    "$J_6(u) =\\frac{1}{2}\\langle Au,u\\rangle-\\langle f,u \\rangle+ \\langle w,u \\rangle$\n",
    "\n",
    "* Etudiant la convexité du fonction $J_1$:\n",
    "\n",
    "la matrice Hessienne  de $J_1$, $H_1(u)=2 I_N$  qui est définit et possitive, donc $J_1$ est strictement convexe.\n",
    " \n",
    "* Etudiant la convexité du fonction $J_2$:\n",
    "\n",
    "de même pour  $J_2$, on a  $H_2(u)=2 I_N$ et donc $J_2$ est strictement convexe.\n",
    " \n",
    "* Etudiant la convexité du fonction $J_5$:\n",
    "\n",
    "la matrice Hessienne  de $J_5$, $H_1(u)=A+2 I_N$  qui est définit et possitive, donc $J_5$ est strictement convexe.\n",
    "##### preuve :\n",
    "\n",
    "soit $ X  \\in \\mathbb{R}^N$, On a $\\langle X,(A+2I_N)X\\rangle=\\langle X,AX\\rangle+2\\langle X,X\\rangle> 0$.\n",
    "\n",
    "La convexité du fonction $J_6$\n",
    "\n",
    "la matrice Hessienne  de $J_6$ s'exprime comme suite :\n",
    "\n",
    "$H_6(u)=A+12M(u)$, avec\n",
    "$M(u)= \\begin{pmatrix}\n",
    "        u_1^2  & \\cdots & 0 \\\\ \n",
    "    \\vdots & \\ddots & \\vdots \\\\ \n",
    "    0      & \\cdots & u_N^2 \n",
    "\\end{pmatrix}$.\n",
    "\n",
    "Puisque $H_6(u)$ est  la somme d'une matrice définit et positive et d'une matrice positive, alors $H_6(u)$ est définit et positive. Par suite $J_6$ est strictement convexe.\n",
    "\n",
    "#### Question 2\n",
    "\n",
    "La fonction de Rosenbrok:\n",
    "\n",
    "$$\n",
    "J_R(v) = \\sum_{i=1}^{N-1}(v_{i+1}-v_i^2)^2 + \\sum_{i=1}^{N-1} (v_i - 1)^2\n",
    "$$\n",
    "La fonction peut s'exprimer sous la forme :\n",
    "$$\n",
    "J_R(v) = \\sum_{i=2}^{N}(v_i)^2 -2 \\sum_{i=2}^{N} (v_i)(v_{i-1})^2+\\sum_{i=1}^{N-1} (v_i)^2\n",
    "$$\n",
    "et donc pour un $v$ fixé, si on note par $G$ le gradient de $J_R(v)$ en $v$\n",
    "on a \n",
    "\n",
    "* $G_1=4v_1^3-4v_2 v_1$,\n",
    "\n",
    "* $G_i=2v_i -2v_{i-1}^2 +4v_i^3\\; \\forall i\\in 2, ...,N-1$,  \n",
    "\n",
    "* $G_N=2v_N-2v_{N-1}^2$\n",
    "\n",
    "\n",
    "\n",
    "\n",
    "\n",
    "\n",
    "\n",
    "\n",
    "\n",
    "\n",
    "\n",
    "\n",
    "\n",
    "\n"
   ]
  },
  {
   "cell_type": "code",
   "execution_count": 1,
   "metadata": {},
   "outputs": [],
   "source": [
    "import numpy as np\n",
    "from numpy import linalg as LA\n",
    "from matplotlib import pyplot as plt\n",
    "def JG1(v):\n",
    "    N = len(v)\n",
    "    ones = np.ones(N)\n",
    "    return [np.dot(v-ones,v-ones), 2*(v-ones)]\n",
    "\n",
    "def JG2(v):\n",
    "    N = len(v)\n",
    "    gamma = np.arange(1,N+1)\n",
    "    return [np.dot(v-gamma,v-gamma), 2*(v-gamma)]\n",
    "def JG5(v):\n",
    "    N=len(v)\n",
    "    A=2*np.eye(N,N)-np.diag(np.ones(N-1),1)-np.diag(np.ones(N-1),-1)\n",
    "    f=np.ones(N)\n",
    "    u=A.dot(v)\n",
    "    return 0.5*np.dot(u,v)-np.dot(f,v)+np.dot(v,v), A.dot(v)-f+2*v\n",
    "def JG6(v):\n",
    "    N=len(v)\n",
    "    A=2*np.eye(N,N)-np.diag(np.ones(N-1),1)-np.diag(np.ones(N-1),-1)\n",
    "    f=np.ones(N)\n",
    "    u=A.dot(v)\n",
    "    v2=v**2\n",
    "    return 0.5*np.dot(u,v)-np.dot(f,v)+np.dot(v2,v2), A.dot(v)-f+4*v**3\n",
    "def Res(v):\n",
    "    N=len(v)\n",
    "    ones = np.ones(N-1)\n",
    "    a=v[1:N]\n",
    "    b=v[0:N-1]\n",
    "    v_prod=np.zeros(N)\n",
    "    for i in range(N-1):\n",
    "        v_prod[i]=v[i]*v[i+1]\n",
    "    v1=np.zeros(N)\n",
    "    v2=np.zeros(N)\n",
    "    v3=np.zeros(N)\n",
    "    v1[1:N]=a\n",
    "    v2[1:N]=b**2\n",
    "    v3[0:N-1]=b**3\n",
    "    grad_res=4*v3-2*v2+2*v1-4*v_prod+2*(v-np.ones(N))\n",
    "    \n",
    "    \n",
    "    return np.dot(a,a)-2*np.dot(a,b**2)+np.dot(b**2,b**2)+np.dot(b-ones,b-ones),grad_res\n",
    "\n",
    "def f_test(v):\n",
    "  return J1(v)"
   ]
  },
  {
   "cell_type": "markdown",
   "metadata": {},
   "source": [
    "### Minimisation par gradient constant:"
   ]
  },
  {
   "cell_type": "code",
   "execution_count": 2,
   "metadata": {},
   "outputs": [],
   "source": [
    "\n",
    "def gradient_fixe(u_0, eta, eps, Nmax):\n",
    "    # u_0        : point initial\n",
    "    # eta      : pas fixe\n",
    "    # eps     : tolérance sur la norme du gradient\n",
    "    # Nmax : nombre maximal d'iterations\n",
    "    #f_test :la fonction qu'on veux minimiser, et leur Gradient f(v),Grad_f(v)=f_test(v)\n",
    "\n",
    "    # création d'un tableau de stockage pour enregistrer l'évolution du cout\n",
    "    cost_history = np.zeros(Nmax) \n",
    "     \n",
    "    for k in range(0, Nmax):\n",
    "        [J_u,Grad_J] = f_test(u_0)\n",
    "        im_f[k] = J_u # on enregistre la valeur du cout à l'itération k dans im_f[k]\n",
    "\n",
    "        if LA.norm(G) < eps:\n",
    "          break\n",
    "\n",
    "        u_0 = u_0 - eta * G # formule du gradient descent\n",
    "         \n",
    "    return u_0, k, im_f"
   ]
  },
  {
   "cell_type": "markdown",
   "metadata": {},
   "source": [
    "### Shéma a pas spectral \n",
    "$$ \\left\\{\n",
    "\\begin{array}{ccc}\n",
    "s^{(k-1)} & = & u^{(k)} - u^{(k-1)} \\\\\n",
    "y^{(k-1)} & = & \\nabla J(u^{(k)}) - \\nabla J(u^{(k-1)}) \\\\\n",
    " \\end{array}\n",
    "\\right.\n",
    "$$\n",
    "et \n",
    "$$\n",
    "\\rho^1_k = \\dfrac{(s^{(k-1)} ,s^{(k-1)})}{(y^{(k-1)} ,s^{(k-1)})} ;\n",
    "\\qquad \n",
    "\\rho^2_k = \\dfrac{(s^{(k-1)} ,y^{(k-1)})}{(y^{(k-1)} ,y^{(k-1)})}\n",
    "$$\n",
    "Le schéma du gradient desente est donné par :\n",
    "\\begin{equation}\n",
    "u^{(0)},\\rho^{(0)} \\textrm{ donné}; \\quad u^{(k+1)} = u^{(k)} - \\rho_k \\nabla J(u^{(k)})\n",
    "\\end{equation}\n",
    "et $u^{(1)}$ est calculé par $u^{(1)}=u^{(0)}- \\rho_k \\nabla J(u^{(0)})$\n",
    "\n",
    "### Algorithme BB1:\n"
   ]
  },
  {
   "cell_type": "code",
   "execution_count": 3,
   "metadata": {},
   "outputs": [],
   "source": [
    " \n",
    "def BB1_Grad_spect(u_0,pho_0,Nmax,JG1):\n",
    "    # u_0        : point initial\n",
    "    # eta      : pas initial\n",
    "    # Nmax : nombre maximal d'iterations\n",
    "    #JG1 :la fonction qu'on veux minimiser, et leur Gradient f(v),Grad_f(v)=f_test(v)\n",
    "    N=len(u_0)\n",
    "    Q=np.zeros((N,Nmax)) #  on enregistre le vecteur u à l'itération k dans Q[:,k]\n",
    "    j1_0 ,GradJ_0 =JG1(u_0) #on calcule l'image et le gradient au point u_0\n",
    "    u_1=u_0-pho_0*GradJ_0\n",
    "    j1_1,GradJ_1=JG1(u_1)\n",
    "    Q[:,0]=u_0\n",
    "    Q[:,1]=u_1.copy()\n",
    "    k=0\n",
    "    history=np.zeros(Nmax) # on enregistre la valeur du cout à l'itération k dans history[k]\n",
    "    history[0]=j1_0\n",
    "    \n",
    "    for i in range(1,Nmax-1):\n",
    "       tol=1e-8 #condition sur le gradient\n",
    "       k=k+1\n",
    "       \n",
    "       S=Q[:,i]-Q[:,i-1]\n",
    "       j1_i,GradJ_i=JG1(Q[:,i])\n",
    "    \n",
    "       if LA.norm(GradJ_i,2)<tol :\n",
    "           break\n",
    "\n",
    "       j1_i1,GradJ_i1=JG1(Q[:,i-1])\n",
    "       Y=GradJ_i-GradJ_i1\n",
    "       pho=LA.norm(S)**2/np.dot(S,Y)\n",
    "       Q[:,i+1]=Q[:,i]-pho*GradJ_i\n",
    "       j1_i11,GradJ_i11=JG1(Q[:,i+1])\n",
    "       history[i+1]=j1_i11\n",
    "   \n",
    "    return history[0:k-1],Q[:,k],k-1\n"
   ]
  },
  {
   "cell_type": "markdown",
   "metadata": {},
   "source": [
    "### Test:\n",
    "Ici on va éffectuer un test avec le schéma BB1\n",
    "pour les deux cas test suivant: \n",
    "$$J_1(v) = \\sum_{i=1}^{i=N}{(v_i - 1)^2}, \\quad J_2(v) = \\sum_{i=1}^{i=N}{(v_i - i)^2}$$\n",
    "avec dimension N=10\n",
    "\n",
    "### Pour la fonction J1\n",
    "\n"
   ]
  },
  {
   "cell_type": "code",
   "execution_count": 4,
   "metadata": {},
   "outputs": [
    {
     "name": "stdout",
     "output_type": "stream",
     "text": [
      "La solution est atteint en  1 iterations\n",
      "[1. 1. 1. 1. 1. 1. 1. 1. 1. 1.]\n"
     ]
    }
   ],
   "source": [
    "Nmax=100\n",
    "u_0=np.zeros(10)\n",
    "#u_0[0]=1\n",
    "#u_0[1]=1.5\n",
    "pho_0=0.1\n",
    "hist,u_app,k1=BB1_Grad_spect(u_0,pho_0,Nmax,JG1)\n",
    "print('La solution est atteint en ',k1, 'iterations')\n",
    "print(u_app)\n",
    "\n"
   ]
  },
  {
   "cell_type": "markdown",
   "metadata": {},
   "source": [
    "### Pour la fonction J2"
   ]
  },
  {
   "cell_type": "code",
   "execution_count": 5,
   "metadata": {},
   "outputs": [
    {
     "name": "stdout",
     "output_type": "stream",
     "text": [
      "La solution est atteint en  1 iterations\n",
      "[ 1.  2.  3.  4.  5.  6.  7.  8.  9. 10.]\n"
     ]
    }
   ],
   "source": [
    "Nmax=100\n",
    "u_0=np.zeros(10)\n",
    "#u_0[0]=1\n",
    "#u_0[1]=1.5\n",
    "pho_0=0.1\n",
    "hist,u_app,k2=BB1_Grad_spect(u_0,pho_0,Nmax,JG2)\n",
    "print('La solution est atteint en ',k2, 'iterations')\n",
    "print(u_app)"
   ]
  },
  {
   "cell_type": "markdown",
   "metadata": {},
   "source": [
    "### Algorithme BB2\n"
   ]
  },
  {
   "cell_type": "code",
   "execution_count": 6,
   "metadata": {},
   "outputs": [],
   "source": [
    "def BB2_Grad_spect(u_0,pho_0,Nmax,JG1):\n",
    "    tol=1e-10\n",
    "    N=len(u_0)\n",
    "    Q=np.zeros((N,Nmax))\n",
    "    j1_0,GradJ_0=JG1(u_0)\n",
    "    u_1=u_0-pho_0*GradJ_0\n",
    "    j1_1,GradJ_1=JG1(u_1)\n",
    "    Q[:,0]=u_0\n",
    "    Q[:,1]=u_1.copy()\n",
    "    history=np.zeros(Nmax)\n",
    "    history[0]=j1_0\n",
    "    history[1]=j1_1\n",
    "    k=0\n",
    "    for i in range(1,Nmax-1):\n",
    "       \n",
    "       S=Q[:,i]-Q[:,i-1]\n",
    "       j1_i , GradJ_i=JG1(Q[:,i])\n",
    "       j1_i1 , GradJ_i1 = JG1(Q[:,i-1])\n",
    "       Y=GradJ_i - GradJ_i1\n",
    "       norm=LA.norm(Y)    \n",
    "       prod=np.dot(S,Y)\n",
    "       pho= prod/norm**2\n",
    "       Q[:,i+1]=Q[:,i] - pho*GradJ_i\n",
    "       j1_i11,GradJ_i11=JG1(Q[:,i+1])\n",
    "       history[i+1]=j1_i11\n",
    "       k=k+1\n",
    "       if LA.norm( GradJ_i)<tol:\n",
    "           break\n",
    " \n",
    "    \n",
    "    \n",
    "    return history[0:k-1],Q[:,k],k-1"
   ]
  },
  {
   "cell_type": "markdown",
   "metadata": {},
   "source": [
    "### Minimisation de  la fonction J1 par le schéma BB2"
   ]
  },
  {
   "cell_type": "code",
   "execution_count": 7,
   "metadata": {},
   "outputs": [
    {
     "name": "stdout",
     "output_type": "stream",
     "text": [
      "La solution est atteint en  1 iterations\n",
      "[1. 1. 1. 1. 1. 1. 1. 1. 1. 1.]\n"
     ]
    }
   ],
   "source": [
    "Nmax=100\n",
    "pho_0=0.1\n",
    "u_0=np.zeros(10)\n",
    "hist,u_app,k1=BB2_Grad_spect(u_0,pho_0,Nmax,JG1)\n",
    "print('La solution est atteint en ',k1, 'iterations')\n",
    "print(u_app)"
   ]
  },
  {
   "cell_type": "markdown",
   "metadata": {},
   "source": [
    "### Minimisation de  la fonction J2 par le schéma BB2"
   ]
  },
  {
   "cell_type": "code",
   "execution_count": 8,
   "metadata": {},
   "outputs": [
    {
     "name": "stdout",
     "output_type": "stream",
     "text": [
      "La solution est atteint en 1 iterations\n",
      "[ 1.  2.  3.  4.  5.  6.  7.  8.  9. 10.]\n"
     ]
    }
   ],
   "source": [
    "Nmax=100\n",
    "pho_0=0.1\n",
    "u_0=np.zeros(10)\n",
    "hist,u_app,k1=BB2_Grad_spect(u_0,pho_0,Nmax,JG2)\n",
    "print('La solution est atteint en',k1, 'iterations')\n",
    "print(u_app)"
   ]
  },
  {
   "cell_type": "markdown",
   "metadata": {},
   "source": [
    "### Minimisation de  la fonction J5 par le schéma BB1"
   ]
  },
  {
   "cell_type": "code",
   "execution_count": 9,
   "metadata": {},
   "outputs": [
    {
     "name": "stdout",
     "output_type": "stream",
     "text": [
      "La solution est atteint en 16 iterations\n",
      "[0.36602452 0.46409807 0.49036778 0.49737303 0.49912434 0.49912434\n",
      " 0.49737303 0.49036778 0.46409807 0.36602452]\n"
     ]
    }
   ],
   "source": [
    "\n",
    "Nmax=100\n",
    "N=10\n",
    "u_0=np.zeros(N)\n",
    "#u_0[0]=1\n",
    "#u_0[1]=1.5\n",
    "pho_0=0.1\n",
    "hist,u_app,k1=BB1_Grad_spect(u_0,pho_0,Nmax,JG5)\n",
    "print('La solution est atteint en',k1, 'iterations')\n",
    "print(u_app)\n"
   ]
  },
  {
   "cell_type": "markdown",
   "metadata": {},
   "source": [
    "### Minimisation de  la fonction J5 par le schéma BB2"
   ]
  },
  {
   "cell_type": "code",
   "execution_count": 10,
   "metadata": {
    "scrolled": false
   },
   "outputs": [
    {
     "name": "stdout",
     "output_type": "stream",
     "text": [
      "La solution est atteint en 20 iterations\n",
      "[0.36602452 0.46409807 0.49036778 0.49737303 0.49912434 0.49912434\n",
      " 0.49737303 0.49036778 0.46409807 0.36602452]\n"
     ]
    }
   ],
   "source": [
    "def resultatBB2_J5(N):\n",
    "    Nmax=1000\n",
    "    pho_0=0.1\n",
    "    u_0=np.zeros(N)\n",
    "    hist , u_app, k1=BB2_Grad_spect(u_0,pho_0,Nmax,JG5)\n",
    "    return u_app,k1\n",
    "N=10\n",
    "u_app,k1=resultatBB2_J5(N)\n",
    "print('La solution est atteint en',k1, 'iterations')\n",
    "print(u_app)"
   ]
  },
  {
   "cell_type": "markdown",
   "metadata": {},
   "source": [
    "Comparaison avec la solution obtenu par la méthode Least square:\n",
    "on a $\\nabla J(u)=0 \\Leftrightarrow (A+2I)u=f  $\n"
   ]
  },
  {
   "cell_type": "markdown",
   "metadata": {},
   "source": [
    "### Resolution du système (A+2I)u=f par la méthode LS"
   ]
  },
  {
   "cell_type": "code",
   "execution_count": 11,
   "metadata": {},
   "outputs": [
    {
     "name": "stdout",
     "output_type": "stream",
     "text": [
      "La solution approché avec Last Square:\n",
      " [[0.36602452 0.46409807 0.49036778 0.49737303 0.49912434 0.49912434\n",
      "  0.49737303 0.49036778 0.46409807 0.36602452]]\n"
     ]
    }
   ],
   "source": [
    "N=10\n",
    "f=np.ones((N,1))\n",
    "\n",
    "A=2*np.eye(N,N)-np.diag(np.ones(N-1),1)-np.diag(np.ones(N-1),-1)\n",
    "\n",
    "x,y,z,t=LA.lstsq(A+2*np.eye(N,N), f,rcond=-1)\n",
    "print(\"La solution approché avec Last Square:\\n\",x.T)"
   ]
  },
  {
   "cell_type": "markdown",
   "metadata": {},
   "source": [
    "### Minimisation de  la fonction J6 par le schéma BB1"
   ]
  },
  {
   "cell_type": "code",
   "execution_count": 12,
   "metadata": {},
   "outputs": [
    {
     "name": "stdout",
     "output_type": "stream",
     "text": [
      "La solution est atteint en 17 iterations\n",
      "La solution approché: \n",
      " [0.522072   0.61332607 0.62743683 0.62957732 0.62989402 0.62989402\n",
      " 0.62957732 0.62743683 0.61332607 0.522072  ]\n"
     ]
    }
   ],
   "source": [
    "#Donner le dimension N =10,20,40,80\n",
    "def resultatBB1_J6(N):\n",
    "    Nmax=100\n",
    "    pho_0=0.1\n",
    "    u_0=np.zeros(N)\n",
    "    hist , u_app, k1=BB1_Grad_spect(u_0,pho_0,Nmax,JG6)\n",
    "    return u_app,k1\n",
    "N=10\n",
    "u_app,k1=resultatBB1_J6(N)\n",
    "print('La solution est atteint en',k1, 'iterations')\n",
    "print(\"La solution approché: \\n\",u_app)"
   ]
  },
  {
   "cell_type": "markdown",
   "metadata": {},
   "source": [
    "### Minimisation de  la fonction J6 par le schéma BB2"
   ]
  },
  {
   "cell_type": "code",
   "execution_count": 13,
   "metadata": {},
   "outputs": [
    {
     "name": "stdout",
     "output_type": "stream",
     "text": [
      "La solution est atteint en 19 iterations\n",
      "[0.522072   0.61332607 0.62743683 0.62957732 0.62989402 0.62989402\n",
      " 0.62957732 0.62743683 0.61332607 0.522072  ]\n"
     ]
    }
   ],
   "source": [
    "\n",
    "#donner le dimension N =10,20,40,80\n",
    "def resultatBB2_J6(N):\n",
    "    Nmax=100\n",
    "    pho_0=0.1\n",
    "    u_0=np.zeros(N)\n",
    "    hist , u_app, k1=BB2_Grad_spect(u_0,pho_0,Nmax,JG6)\n",
    "    return u_app,k1\n",
    "N=10\n",
    "u_app,k1=resultatBB2_J6(N)\n",
    "print('La solution est atteint en',k1, 'iterations')\n",
    "print(u_app)"
   ]
  },
  {
   "cell_type": "markdown",
   "metadata": {},
   "source": [
    "### Minimisation de  la fonction Rosenbrock par le schéma BB1\n",
    "On a construit la fonction \"resultatBB1_Res\" de paramètre N pour tester la méthode dans différentes dimensions."
   ]
  },
  {
   "cell_type": "code",
   "execution_count": 14,
   "metadata": {},
   "outputs": [
    {
     "name": "stdout",
     "output_type": "stream",
     "text": [
      "La solution est atteint en 82 iterations\n",
      "[1. 1. 1. 1. 1. 1. 1. 1. 1. 1.]\n"
     ]
    }
   ],
   "source": [
    "def resultatBB1_Res(N):\n",
    "    # N est le dimension\n",
    "    Nmax=1000\n",
    "    pho_0=0.1\n",
    "    u_0=np.arange(N)\n",
    "    hist , u_app, k1=BB1_Grad_spect(u_0,pho_0,Nmax,Res)\n",
    "    return u_app,k1\n",
    "N=10\n",
    "u_app,k1=resultatBB1_Res(N)\n",
    "print('La solution est atteint en',k1, 'iterations')\n",
    "print(u_app)"
   ]
  },
  {
   "cell_type": "markdown",
   "metadata": {},
   "source": [
    "### Minimisation de  la fonction Rosenbrock par le schéma BB2"
   ]
  },
  {
   "cell_type": "code",
   "execution_count": 15,
   "metadata": {},
   "outputs": [
    {
     "name": "stdout",
     "output_type": "stream",
     "text": [
      "La solution est atteint en 56 iterations\n",
      "[1. 1. 1. 1. 1. 1. 1. 1. 1. 1.]\n"
     ]
    }
   ],
   "source": [
    "def resultatBB2_Res(N):\n",
    "    # N est le dimension\n",
    "    Nmax=100\n",
    "    pho_0=0.001\n",
    "    u_0=np.arange(N)\n",
    "    hist , u_app, k1=BB2_Grad_spect(u_0,pho_0,Nmax,Res)\n",
    "    return u_app,k1\n",
    "N=10\n",
    "u_app,k1=resultatBB2_Res(N)\n",
    "print('La solution est atteint en',k1, 'iterations')\n",
    "print(u_app)"
   ]
  },
  {
   "cell_type": "markdown",
   "metadata": {},
   "source": [
    "### Traçant les courbes $J(u_k)$ en fonction de $k$ pour la fonction $J5$"
   ]
  },
  {
   "cell_type": "code",
   "execution_count": 16,
   "metadata": {},
   "outputs": [
    {
     "name": "stdout",
     "output_type": "stream",
     "text": [
      "Les valeures de la fonction dans chaque itération pour BB1:\n",
      " [ 0.          0.         -2.29909091 -2.30737449 -2.31603116 -2.3169611\n",
      " -2.31698668 -2.31698748 -2.31698773 -2.31698774 -2.31698774 -2.31698774\n",
      " -2.31698774 -2.31698774 -2.31698774 -2.31698774]\n",
      "Les valeures de la fonction dans chaque itération pour BB2:\n",
      " [ 0.         -0.89       -2.29624    -2.30924852 -2.31633598 -2.31697222\n",
      " -2.31698635 -2.3169873  -2.31698772 -2.31698774 -2.31698774 -2.31698774\n",
      " -2.31698774 -2.31698774 -2.31698774 -2.31698774 -2.31698774 -2.31698774\n",
      " -2.31698774 -2.31698774]\n"
     ]
    },
    {
     "data": {
      "image/png": "[encoded data removed]",
      "text/plain": [
       "<Figure size 432x288 with 1 Axes>"
      ]
     },
     "metadata": {
      "needs_background": "light"
     },
     "output_type": "display_data"
    }
   ],
   "source": [
    "pho_0=0.1 #Pas initiale\n",
    "histBB1,u_app1,k1 = BB1_Grad_spect(u_0,pho_0,Nmax,JG5)\n",
    "histBB2 , u_app2, k2 = BB2_Grad_spect(u_0,pho_0,Nmax,JG5)\n",
    "#k=max(k1,k2)\n",
    "axe1=np.arange(0,k1)\n",
    "axe2=np.arange(0,k2)\n",
    "\n",
    "plt.plot(axe1,histBB1, color='green', marker='*',\n",
    "     markerfacecolor='blue',label='BB1')\n",
    "plt.plot(axe2,histBB2, color='b', marker='+',\n",
    "     markerfacecolor='blue', label='BB2')\n",
    "plt.xlabel(\"itération k\")\n",
    "plt.ylabel(\"J5(uk)\")\n",
    "plt.legend()\n",
    "plt.title(\"La fonction J5\")\n",
    "#print(k1)\n",
    "#print(k2)\n",
    "print(\"Les valeures de la fonction dans chaque itération pour BB1:\\n\",histBB1)\n",
    "print(\"Les valeures de la fonction dans chaque itération pour BB2:\\n\",histBB2)"
   ]
  },
  {
   "cell_type": "markdown",
   "metadata": {},
   "source": [
    "### Traçant les courbes $J(u_k)$ en fonction de $k$ pour la fonction $J6$\n"
   ]
  },
  {
   "cell_type": "code",
   "execution_count": 22,
   "metadata": {},
   "outputs": [
    {
     "name": "stdout",
     "output_type": "stream",
     "text": [
      "Les valeures de la fonction dans chaque itération pour BB1:\n",
      " [ 1.53330000e+04  0.00000000e+00  4.23533398e+08  1.42214703e+08\n",
      "  6.35136543e+07  2.35074800e+07  8.63276651e+06  2.95885301e+06\n",
      "  1.00860320e+06  3.40355312e+05  1.14115559e+05  3.80860401e+04\n",
      "  1.27737978e+04  4.27887271e+03  1.42343245e+03  4.75506881e+02\n",
      "  1.62894820e+02  5.87099002e+01  2.28425175e+01  9.56934415e+00\n",
      "  3.95031989e+00  8.03141139e-01 -2.91224493e+00  3.61281814e+01\n",
      " -2.01235311e+00 -3.16758178e+00 -4.13693878e+00 -4.38514277e+00\n",
      " -4.39065625e+00 -4.39287396e+00 -4.39291291e+00 -4.39291415e+00\n",
      " -4.39291421e+00 -4.39291422e+00 -4.39291422e+00 -4.39291422e+00\n",
      " -4.39291422e+00]\n",
      "Les valeures de la fonction dans chaque itération pour BB2:\n",
      " [ 1.53330000e+04  8.28908190e+09  1.81362353e+08  1.12138277e+08\n",
      "  3.62447598e+07  1.45310534e+07  5.00697529e+06  1.75053581e+06\n",
      "  5.91883408e+05  2.00634085e+05  6.71558760e+04  2.25220635e+04\n",
      "  7.58338823e+03  2.54061558e+03  8.46327301e+02  2.85408937e+02\n",
      "  9.98282765e+01  3.72585194e+01  1.51163179e+01  6.46232179e+00\n",
      "  2.40819675e+00 -4.49558757e-01 -3.99213817e+00 -3.71285515e+00\n",
      " -4.35368194e+00 -4.39083908e+00 -4.39272241e+00 -4.39290237e+00\n",
      " -4.39291359e+00 -4.39291409e+00 -4.39291422e+00 -4.39291422e+00\n",
      " -4.39291422e+00 -4.39291422e+00 -4.39291422e+00 -4.39291422e+00\n",
      " -4.39291422e+00]\n"
     ]
    },
    {
     "data": {
      "image/png": "[encoded data removed]",
      "text/plain": [
       "<Figure size 432x288 with 1 Axes>"
      ]
     },
     "metadata": {
      "needs_background": "light"
     },
     "output_type": "display_data"
    }
   ],
   "source": [
    "pho_0=0.1\n",
    "histBB1,u_app1,k1=BB1_Grad_spect(u_0,pho_0,Nmax,JG6)\n",
    "histBB2 , u_app2, k2=BB2_Grad_spect(u_0,pho_0,Nmax,JG6)\n",
    "\n",
    "axe1=np.arange(0,k1)\n",
    "axe2=np.arange(0,k2)\n",
    "\n",
    "plt.plot(axe1,histBB1, color='green', marker='*',\n",
    "     markerfacecolor='blue',label='BB1')\n",
    "plt.plot(axe2,histBB2, color='b', marker='+',\n",
    "     markerfacecolor='blue', label='BB2')\n",
    "plt.xlabel(\"itération k\")\n",
    "plt.ylabel(\"J6(uk)\")\n",
    "plt.legend()\n",
    "plt.title(\"la fonction J6\")\n",
    "print(\"Les valeures de la fonction dans chaque itération pour BB1:\\n\",histBB1)\n",
    "print(\"Les valeures de la fonction dans chaque itération pour BB2:\\n\",histBB2)"
   ]
  },
  {
   "cell_type": "markdown",
   "metadata": {},
   "source": [
    "### Traçant les courbes $J(u_k)$ en fonction de $k$ pour la fonction Rosenbrok"
   ]
  },
  {
   "cell_type": "code",
   "execution_count": 23,
   "metadata": {},
   "outputs": [
    {
     "data": {
      "text/plain": [
       "Text(0.5, 1.0, 'fonction de Rosenbrok ')"
      ]
     },
     "execution_count": 23,
     "metadata": {},
     "output_type": "execute_result"
    },
    {
     "data": {
      "image/png": "[encoded data removed]",
      "text/plain": [
       "<Figure size 432x288 with 1 Axes>"
      ]
     },
     "metadata": {
      "needs_background": "light"
     },
     "output_type": "display_data"
    }
   ],
   "source": [
    "pho_0=0.1\n",
    "u_0=np.arange(10)\n",
    "histBB1,u_app1,k1 = BB1_Grad_spect(u_0,pho_0,Nmax,Res)\n",
    "histBB2 , u_app2, k2 = BB2_Grad_spect(u_0,pho_0,Nmax,Res)\n",
    "k=max(k1,k2)\n",
    "axe1=np.arange(0,k1)\n",
    "axe2=np.arange(0,k2)\n",
    "plt.plot(axe1,histBB1, color='green', marker='*',\n",
    "     markerfacecolor='blue',label='BB1')\n",
    "plt.plot(axe2,histBB2, color='b', marker='+',\n",
    "     markerfacecolor='blue', label='BB2')\n",
    "plt.xlabel(\"itération k\")\n",
    "plt.ylabel(\"J6(uk)\")\n",
    "plt.legend()\n",
    "plt.title(\"fonction de Rosenbrok \")"
   ]
  },
  {
   "cell_type": "code",
   "execution_count": null,
   "metadata": {},
   "outputs": [],
   "source": []
  }
 ],
 "metadata": {
  "kernelspec": {
   "display_name": "Python 3",
   "language": "python",
   "name": "python3"
  },
  "language_info": {
   "codemirror_mode": {
    "name": "ipython",
    "version": 3
   },
   "file_extension": ".py",
   "mimetype": "text/x-python",
   "name": "python",
   "nbconvert_exporter": "python",
   "pygments_lexer": "ipython3",
   "version": "3.8.5"
  }
 },
 "nbformat": 4,
 "nbformat_minor": 4
}
